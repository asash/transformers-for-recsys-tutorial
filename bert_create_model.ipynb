{
 "cells": [
  {
   "cell_type": "code",
   "execution_count": 32,
   "id": "8a07aca9-0f88-4627-a75e-772036c363ca",
   "metadata": {},
   "outputs": [],
   "source": [
    "from transformers import BertConfig, BertForMaskedLM\n",
    "import torch\n",
    "num_items = 100\n",
    "embedding_size = 144\n",
    "sequence_length = 5\n",
    "num_layers = 3\n",
    "num_heads = 4\n",
    "\n",
    "mask_item_id = 0\n",
    "\n",
    "config = BertConfig(\n",
    "            vocab_size = num_items + 2, #+1 for padding; +1 for masking\n",
    "            hidden_size = embedding_size,\n",
    "            num_hidden_layers = num_layers, \n",
    "            num_heads = num_heads,\n",
    "            max_position_embeddings = sequence_length, \n",
    ")\n",
    "bert = BertForMaskedLM(config)"
   ]
  },
  {
   "cell_type": "code",
   "execution_count": 40,
   "id": "30d7b1d8-976b-4a5d-9bb2-5019cb6067dc",
   "metadata": {},
   "outputs": [
    {
     "data": {
      "text/plain": [
       "torch.Size([1, 5, 102])"
      ]
     },
     "execution_count": 40,
     "metadata": {},
     "output_type": "execute_result"
    }
   ],
   "source": [
    "masked_seq = torch.tensor([[4, 1, 6, 5, 0]])\n",
    "bert_output = bert(input_ids=masked_seq)\n",
    "bert_output.logits.shape"
   ]
  },
  {
   "cell_type": "code",
   "execution_count": 44,
   "id": "b06d60fb-ca5e-4eb5-8e8f-b9bccd7e81ab",
   "metadata": {},
   "outputs": [],
   "source": [
    "recommendations = bert_output.logits[:,-1]"
   ]
  },
  {
   "cell_type": "code",
   "execution_count": 48,
   "id": "c5afe9ed-4245-4a71-bd77-bfe61ec12c55",
   "metadata": {},
   "outputs": [
    {
     "data": {
      "text/plain": [
       "torch.Size([1, 102])"
      ]
     },
     "execution_count": 48,
     "metadata": {},
     "output_type": "execute_result"
    }
   ],
   "source": [
    "recommendations.shape"
   ]
  },
  {
   "cell_type": "code",
   "execution_count": null,
   "id": "902ad014-6a99-4dd1-a71c-17c7d381cdff",
   "metadata": {},
   "outputs": [],
   "source": []
  }
 ],
 "metadata": {
  "kernelspec": {
   "display_name": "Python 3 (ipykernel)",
   "language": "python",
   "name": "python3"
  },
  "language_info": {
   "codemirror_mode": {
    "name": "ipython",
    "version": 3
   },
   "file_extension": ".py",
   "mimetype": "text/x-python",
   "name": "python",
   "nbconvert_exporter": "python",
   "pygments_lexer": "ipython3",
   "version": "3.9.6"
  }
 },
 "nbformat": 4,
 "nbformat_minor": 5
}
